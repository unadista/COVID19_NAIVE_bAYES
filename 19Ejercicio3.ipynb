{
 "cells": [
  {
   "cell_type": "markdown",
   "id": "99013620",
   "metadata": {},
   "source": [
    "#Probabilidades condicionales de los síntomas dado COVID-19"
   ]
  },
  {
   "cell_type": "code",
   "execution_count": 1,
   "id": "978ce6d6",
   "metadata": {},
   "outputs": [],
   "source": [
    "p_fatiga_given_covid = 0.80\n",
    "p_tos_seca_given_covid = 0.60\n",
    "p_dificultad_respirar_given_covid = 0.60\n",
    "p_dolor_garganta_given_covid = 0.50\n",
    "p_dolor_cabeza_given_covid = 0.40\n",
    "p_dolor_cuerpo_given_covid = 0.50\n",
    "p_escalofrios_given_covid = 0.40\n",
    "p_secrecion_nasal_given = 0.30\n",
    "p_perdida_sentido_given_covid = 0.60\n",
    "p_fiebre_given_covid = 0.70\n",
    "p_dolor_pecho_given_covid = 0.40"
   ]
  },
  {
   "cell_type": "markdown",
   "id": "3869a5b9",
   "metadata": {},
   "source": [
    "#Definición de la prevalencia del COVID-19 en la población"
   ]
  },
  {
   "cell_type": "code",
   "execution_count": 2,
   "id": "704d2376",
   "metadata": {},
   "outputs": [],
   "source": [
    "p_covid = 0.05"
   ]
  },
  {
   "cell_type": "markdown",
   "id": "9979fe05",
   "metadata": {},
   "source": [
    "#Definición de síntomas que se observan en el paciente "
   ]
  },
  {
   "cell_type": "code",
   "execution_count": 3,
   "id": "4b5cf6fb",
   "metadata": {},
   "outputs": [],
   "source": [
    "sintomas = ['Fatiga', 'Tos seca', 'Dificultad para respirar', 'Dolor de garganta', 'Dolor de cabeza', 'Dolor en el cuerpo',\n",
    "           'Escalofríos', 'Secreción nasal', 'Pérdida del sentido del olfato o del gusto', 'Fiebre', 'Dolor de pecho']"
   ]
  },
  {
   "cell_type": "markdown",
   "id": "ca3a1189",
   "metadata": {},
   "source": [
    "#Cálculo de la probabilidad de que el paciente tenga COVID-19"
   ]
  },
  {
   "cell_type": "code",
   "execution_count": 21,
   "id": "208bd59c",
   "metadata": {},
   "outputs": [],
   "source": [
    "p_sintomas_given_covid = p_fatiga_given_covid * p_tos_seca_given_covid * p_dificultad_respirar_given_covid  / p_dolor_garganta_given_covid * p_dolor_cabeza_given_covid * p_dolor_cuerpo_given_covid  / p_escalofrios_given_covid * p_secrecion_nasal_given * p_perdida_sentido_given_covid  / p_fiebre_given_covid * p_dolor_pecho_given_covid"
   ]
  },
  {
   "cell_type": "code",
   "execution_count": 22,
   "id": "345b491a",
   "metadata": {},
   "outputs": [],
   "source": [
    "p_sintomas_given_no_covid = 0.05 ** 11"
   ]
  },
  {
   "cell_type": "code",
   "execution_count": 23,
   "id": "343ba433",
   "metadata": {},
   "outputs": [],
   "source": [
    "p_sintomas = p_sintomas_given_covid * p_covid + p_sintomas_given_no_covid * (1 - p_covid)"
   ]
  },
  {
   "cell_type": "code",
   "execution_count": 24,
   "id": "30b7c0c2",
   "metadata": {},
   "outputs": [
    {
     "name": "stdout",
     "output_type": "stream",
     "text": [
      "La probabilidad de que el paciente tenga COVID-19 dados los sintomas es: 0.9999999999968682\n"
     ]
    }
   ],
   "source": [
    "p_covid_given_sintomas = p_sintomas_given_covid * p_covid / p_sintomas\n",
    "\n",
    "print(f\"La probabilidad de que el paciente tenga COVID-19 dados los sintomas es: {p_covid_given_sintomas}\")"
   ]
  },
  {
   "cell_type": "code",
   "execution_count": null,
   "id": "fda67447",
   "metadata": {},
   "outputs": [],
   "source": []
  }
 ],
 "metadata": {
  "kernelspec": {
   "display_name": "Python 3 (ipykernel)",
   "language": "python",
   "name": "python3"
  },
  "language_info": {
   "codemirror_mode": {
    "name": "ipython",
    "version": 3
   },
   "file_extension": ".py",
   "mimetype": "text/x-python",
   "name": "python",
   "nbconvert_exporter": "python",
   "pygments_lexer": "ipython3",
   "version": "3.9.13"
  }
 },
 "nbformat": 4,
 "nbformat_minor": 5
}
